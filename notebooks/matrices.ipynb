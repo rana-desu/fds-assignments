{
 "cells": [
  {
   "cell_type": "code",
   "execution_count": 10,
   "id": "87e7a6bb-1b12-4e98-80bf-3caacb070e71",
   "metadata": {},
   "outputs": [],
   "source": [
    "import numpy as np\n",
    "from scipy import linalg"
   ]
  },
  {
   "cell_type": "markdown",
   "id": "d6aa59df-e521-4db7-917c-107d73b70804",
   "metadata": {},
   "source": [
    "## Matrix Operations\n",
    "1. Write Python code for addition, subtraction, multiplication, element-wise multiplication, determinant, the inverse of the matrix using NumPy and SciPy package.\n",
    "    - Addition\n",
    "    - Subtraction\n",
    "    - Multiplication\n",
    "    - Element-wise Multiplication\n",
    "    - Determinant\n",
    "    - Inverse"
   ]
  },
  {
   "cell_type": "code",
   "execution_count": 3,
   "id": "e258165d-44af-405e-804f-d9d5774a2f79",
   "metadata": {},
   "outputs": [
    {
     "name": "stdout",
     "output_type": "stream",
     "text": [
      "Matrix A: \n",
      " [[1 2]\n",
      " [3 4]]\n",
      "Matrix B: \n",
      " [[5 6]\n",
      " [7 8]]\n"
     ]
    }
   ],
   "source": [
    "# use numpy to create sample matrices\n",
    "# the following are 2x2 square matrices\n",
    "A = np.array([[1, 2], [3, 4]])\n",
    "B = np.array([[5, 6], [7, 8]])\n",
    "\n",
    "print(\"Matrix A: \\n\", A)\n",
    "print(\"Matrix B: \\n\", B)"
   ]
  },
  {
   "cell_type": "markdown",
   "id": "13ab33ee-d35a-4571-bf2c-d2ba8b3bc9c7",
   "metadata": {},
   "source": [
    "### Matrix Addition"
   ]
  },
  {
   "cell_type": "code",
   "execution_count": 4,
   "id": "55d203ec-62a9-4503-9bdc-8d76e24708d0",
   "metadata": {},
   "outputs": [
    {
     "name": "stdout",
     "output_type": "stream",
     "text": [
      "Result of Matrix Addition: \n",
      " [[ 6  8]\n",
      " [10 12]]\n"
     ]
    }
   ],
   "source": [
    "result = np.add(A, B)\n",
    "print(\"Result of Matrix Addition: \\n\", result)"
   ]
  },
  {
   "cell_type": "markdown",
   "id": "5929c3ec-3bb6-4463-a42a-5fdd51eb8c15",
   "metadata": {},
   "source": [
    "### Matrix Subtraction"
   ]
  },
  {
   "cell_type": "code",
   "execution_count": 6,
   "id": "fee2a4c5-af6a-4388-a805-b97b3b336443",
   "metadata": {},
   "outputs": [
    {
     "name": "stdout",
     "output_type": "stream",
     "text": [
      "Result of Matrix Subtraction: \n",
      " [[-4 -4]\n",
      " [-4 -4]]\n"
     ]
    }
   ],
   "source": [
    "result = np.subtract(A, B)\n",
    "print(\"Result of Matrix Subtraction: \\n\", result)"
   ]
  },
  {
   "cell_type": "markdown",
   "id": "e4866255-4fd9-40f8-b650-f6be3b075c85",
   "metadata": {},
   "source": [
    "### Matrix Multiplication"
   ]
  },
  {
   "cell_type": "code",
   "execution_count": 7,
   "id": "97291930-a2ea-4db7-a332-8fd9625b3dae",
   "metadata": {},
   "outputs": [
    {
     "name": "stdout",
     "output_type": "stream",
     "text": [
      "Result of Matrix Multiplication: \n",
      " [[19 22]\n",
      " [43 50]]\n"
     ]
    }
   ],
   "source": [
    "result = np.dot(A, B)\n",
    "print(\"Result of Matrix Multiplication: \\n\", result)"
   ]
  },
  {
   "cell_type": "markdown",
   "id": "a4aec0f0-b19f-4b9b-8e5d-7bfc271abae9",
   "metadata": {},
   "source": [
    "### Matrix Element-wise  Multiplication"
   ]
  },
  {
   "cell_type": "code",
   "execution_count": 8,
   "id": "73607230-33ed-498c-bc2e-a9b14d5f510f",
   "metadata": {},
   "outputs": [
    {
     "name": "stdout",
     "output_type": "stream",
     "text": [
      "Result of Matrix Element-wise Multiplication: \n",
      " [[ 5 12]\n",
      " [21 32]]\n"
     ]
    }
   ],
   "source": [
    "result = np.multiply(A, B)\n",
    "print(\"Result of Matrix Element-wise Multiplication: \\n\", result)"
   ]
  },
  {
   "cell_type": "markdown",
   "id": "552ce2d6-e566-4436-a486-4c2babdbb440",
   "metadata": {},
   "source": [
    "### Matrix Determinant"
   ]
  },
  {
   "cell_type": "code",
   "execution_count": 15,
   "id": "662770ad-9be9-47f1-9013-6b4d9671e1c8",
   "metadata": {},
   "outputs": [
    {
     "name": "stdout",
     "output_type": "stream",
     "text": [
      "Determinant of A:  -2.0\n",
      "Determinant of B:  -2.0000000000000036\n"
     ]
    }
   ],
   "source": [
    "result = linalg.det(A)\n",
    "print(\"Determinant of A: \", result)\n",
    "\n",
    "result = linalg.det(B)\n",
    "print(\"Determinant of B: \", result)"
   ]
  },
  {
   "cell_type": "markdown",
   "id": "d61f9a8b-490c-4ac4-a6c1-c2fe94de3793",
   "metadata": {},
   "source": [
    "### Matrix Inverse"
   ]
  },
  {
   "cell_type": "code",
   "execution_count": 17,
   "id": "838dd922-580b-41b0-bf2b-d5719f8da6c7",
   "metadata": {},
   "outputs": [
    {
     "name": "stdout",
     "output_type": "stream",
     "text": [
      "Inverse of A: \n",
      " [[-2.   1. ]\n",
      " [ 1.5 -0.5]]\n"
     ]
    }
   ],
   "source": [
    "try:\n",
    "    result = linalg.inv(A)\n",
    "    print(\"Inverse of A: \\n\", result)\n",
    "except linalg.LinAlgError:\n",
    "    print(\"Matrix A is singular and cannot be inverted.\")"
   ]
  },
  {
   "cell_type": "markdown",
   "id": "c7bc0720-22ff-48e2-9692-abd79ae8a7fc",
   "metadata": {},
   "source": [
    "## Eigenvalues and Eigenvectors\n",
    "2. Write Python code to calculate eigenvalue and eigenvector of a matrix. Check the orthogonality of the eigenvector.\n",
    "    - Eigenvalue\n",
    "    - Eigenvector\n",
    "    - Orthogonality Check"
   ]
  },
  {
   "cell_type": "code",
   "execution_count": 24,
   "id": "25986187-6dc4-4843-ac1e-fffadc50a484",
   "metadata": {},
   "outputs": [
    {
     "name": "stdout",
     "output_type": "stream",
     "text": [
      "Symmetric Matrix: \n",
      " [[6 9]\n",
      " [9 6]]\n"
     ]
    }
   ],
   "source": [
    "# symmetric matrix\n",
    "m = np.array([[6, 9], [9, 6]])\n",
    "print(\"Symmetric Matrix: \\n\", m)"
   ]
  },
  {
   "cell_type": "code",
   "execution_count": 25,
   "id": "f4a94c2a-ab1b-485a-a5bb-f9e5a7704284",
   "metadata": {},
   "outputs": [
    {
     "name": "stdout",
     "output_type": "stream",
     "text": [
      "Eigenvalues: \n",
      " [15.+0.j -3.+0.j]\n",
      "Eigenvectors: \n",
      " [[ 0.70710678 -0.70710678]\n",
      " [ 0.70710678  0.70710678]]\n"
     ]
    }
   ],
   "source": [
    "eigenvalues, eigenvectors = linalg.eig(m)\n",
    "\n",
    "print(\"Eigenvalues: \\n\", eigenvalues)\n",
    "print(\"Eigenvectors: \\n\", eigenvectors)"
   ]
  },
  {
   "cell_type": "code",
   "execution_count": 27,
   "id": "2bea0c6e-d4b8-473e-bad5-cdd4322d1966",
   "metadata": {},
   "outputs": [
    {
     "name": "stdout",
     "output_type": "stream",
     "text": [
      "Dot Product:  0.0\n"
     ]
    }
   ],
   "source": [
    "# check for orthogonality of eigenvectors\n",
    "# eigenvectors are orthogonal if their dot product is zero.\n",
    "dot_product = np.dot(eigenvectors[:,0], eigenvectors[:,1])\n",
    "print(\"Dot Product: \", dot_product)"
   ]
  },
  {
   "cell_type": "markdown",
   "id": "20855bc2-524e-4527-bfe5-997e1149490c",
   "metadata": {},
   "source": [
    "## Span and Basis Calculation\n",
    "3. Calculate span and basis of a vector space using Python."
   ]
  },
  {
   "cell_type": "code",
   "execution_count": 28,
   "id": "0f91139c-eb81-4747-9e17-41783bc4447e",
   "metadata": {},
   "outputs": [],
   "source": [
    "from scipy.linalg import orth"
   ]
  },
  {
   "cell_type": "code",
   "execution_count": 29,
   "id": "13a10efc-897a-4836-b4d9-dac3204e75d0",
   "metadata": {},
   "outputs": [],
   "source": [
    "# matrix where columns are vectors\n",
    "vectors = np.array([\n",
    "    [1, 2, 3],\n",
    "    [4, 5, 6],\n",
    "    [7, 8, 9]\n",
    "]).T\n",
    "# transpose: rows -> columns\n",
    "# why? vectors are expected to be in columns for operations."
   ]
  },
  {
   "cell_type": "code",
   "execution_count": 30,
   "id": "469f849d-63fa-49ce-904f-3e0381ad66f8",
   "metadata": {},
   "outputs": [
    {
     "name": "stdout",
     "output_type": "stream",
     "text": [
      "Sample Vectors are: \n",
      " [[1 4 7]\n",
      " [2 5 8]\n",
      " [3 6 9]]\n"
     ]
    }
   ],
   "source": [
    "print(\"Sample Vectors are: \\n\", vectors)"
   ]
  },
  {
   "cell_type": "code",
   "execution_count": 40,
   "id": "4c08d561-80d3-46d6-9efd-e3088db12379",
   "metadata": {},
   "outputs": [
    {
     "name": "stdout",
     "output_type": "stream",
     "text": [
      "Basis for the vector space: \n",
      " [[-0.47967118  0.77669099]\n",
      " [-0.57236779  0.07568647]\n",
      " [-0.66506441 -0.62531805]]\n"
     ]
    }
   ],
   "source": [
    "# basis is the minimal set of vectors needed to represent the entire space\n",
    "basis = orth(vectors) # calculates orthonormal basis\n",
    "print(\"Basis for the vector space: \\n\", basis)"
   ]
  },
  {
   "cell_type": "code",
   "execution_count": 39,
   "id": "6a64b6fc-36ae-4046-b720-5b24a9d81b8b",
   "metadata": {},
   "outputs": [
    {
     "name": "stdout",
     "output_type": "stream",
     "text": [
      "Dimension of the span:  2\n"
     ]
    }
   ],
   "source": [
    "# span represents all the linear combinations of the basis vectors\n",
    "rank = np.linalg.matrix_rank(vectors)\n",
    "print(\"Dimension of the span: \", rank)"
   ]
  }
 ],
 "metadata": {
  "kernelspec": {
   "display_name": "Python 3 (ipykernel)",
   "language": "python",
   "name": "python3"
  },
  "language_info": {
   "codemirror_mode": {
    "name": "ipython",
    "version": 3
   },
   "file_extension": ".py",
   "mimetype": "text/x-python",
   "name": "python",
   "nbconvert_exporter": "python",
   "pygments_lexer": "ipython3",
   "version": "3.12.9"
  }
 },
 "nbformat": 4,
 "nbformat_minor": 5
}
